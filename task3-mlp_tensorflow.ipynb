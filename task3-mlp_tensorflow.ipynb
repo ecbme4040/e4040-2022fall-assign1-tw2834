{
 "cells": [
  {
   "cell_type": "markdown",
   "metadata": {},
   "source": [
    "## Columbia University\n",
    "### ECBM E4040 Neural Networks and Deep Learning. Fall 2022."
   ]
  },
  {
   "cell_type": "markdown",
   "metadata": {
    "colab_type": "text",
    "id": "Qe6yTh55trpQ"
   },
   "source": [
    "# Assignment 1, Task 3: Multilayer Perceptron (MLP)\n",
    "This is the third part of the assignment. You will get to implement MLP using tensorflow"
   ]
  },
  {
   "cell_type": "code",
   "execution_count": 2,
   "metadata": {
    "colab": {},
    "colab_type": "code",
    "id": "7Vs2WYIFtrpS",
    "tags": []
   },
   "outputs": [
    {
     "name": "stdout",
     "output_type": "stream",
     "text": [
      "The autoreload extension is already loaded. To reload it, use:\n",
      "  %reload_ext autoreload\n"
     ]
    }
   ],
   "source": [
    "# Import modules\n",
    "from __future__ import print_function\n",
    "import tensorflow as tf\n",
    "import numpy as np\n",
    "import time\n",
    "import os\n",
    "import matplotlib.pyplot as plt\n",
    "import pickle\n",
    "\n",
    "from tensorflow.keras.datasets import fashion_mnist\n",
    "\n",
    "# Plot configurations\n",
    "%matplotlib inline\n",
    "\n",
    "# Notebook auto reloads code. (Ref: http://stackoverflow.com/questions/1907993/autoreload-of-modules-in-ipython)\n",
    "%load_ext autoreload\n",
    "%autoreload 2"
   ]
  },
  {
   "cell_type": "markdown",
   "metadata": {
    "colab_type": "text",
    "id": "3gYnTjputrpV"
   },
   "source": [
    "## Load Data"
   ]
  },
  {
   "cell_type": "code",
   "execution_count": 3,
   "metadata": {
    "colab": {
     "base_uri": "https://localhost:8080/",
     "height": 168
    },
    "colab_type": "code",
    "id": "I31uJ6KltrpW",
    "outputId": "1a677958-43ca-422c-ec66-38e8cdff4283",
    "tags": []
   },
   "outputs": [
    {
     "name": "stdout",
     "output_type": "stream",
     "text": [
      "(58000, 784) (2000, 784) (10000, 784) (100, 784)\n",
      "Train data shape:  (58000, 784)\n",
      "Train labels shape:  (58000,)\n",
      "Validation data shape:  (2000, 784)\n",
      "Validation labels shape:  (2000,)\n",
      "Test data shape:  (10000, 784)\n",
      "Test labels shape:  (10000,)\n",
      "Development data shape: (100, 784)\n",
      "Development data shape (100,)\n"
     ]
    }
   ],
   "source": [
    "# Load the raw Fashion-MNIST data.\n",
    "train, test = fashion_mnist.load_data()\n",
    "\n",
    "X_train_raw, y_train = train\n",
    "X_test_raw, y_test = test\n",
    "\n",
    "X_train = X_train_raw.reshape((X_train_raw.shape[0], X_train_raw.shape[1]**2))\n",
    "X_test = X_test_raw.reshape((X_test_raw.shape[0], X_test_raw.shape[1]**2))\n",
    "\n",
    "# Data organizations:\n",
    "# Train data: 58000 samples from original training set of 60,000\n",
    "# Validation data: 2000 samples from original training set: 58,000~60,000\n",
    "# Test data: 10000 samples from original test set\n",
    "# Development data (for gradient check): 100 from the training set\n",
    "\n",
    "num_training = 58000\n",
    "num_validation = 2000\n",
    "num_dev = 100\n",
    "\n",
    "X_val = X_train[-num_validation:, :]\n",
    "y_val = y_train[-num_validation:]\n",
    "\n",
    "mask = np.random.choice(num_training, num_dev, replace=False)\n",
    "X_dev = X_train[mask]\n",
    "y_dev = y_train[mask]\n",
    "\n",
    "X_train = X_train[:num_training, :]\n",
    "y_train = y_train[:num_training]\n",
    "\n",
    "# Preprocessing: subtract the mean value across every dimension for training data\n",
    "mean_image = np.mean(X_train, axis=0)\n",
    "\n",
    "X_train = X_train.astype(np.float32) - mean_image.astype(np.float32)\n",
    "X_val = X_val.astype(np.float32) - mean_image\n",
    "X_test = X_test.astype(np.float32) - mean_image\n",
    "X_dev = X_dev.astype(np.float32) - mean_image\n",
    "\n",
    "print(X_train.shape, X_val.shape, X_test.shape, X_dev.shape)\n",
    "print('Train data shape: ', X_train.shape)\n",
    "print('Train labels shape: ', y_train.shape)\n",
    "print('Validation data shape: ', X_val.shape)\n",
    "print('Validation labels shape: ', y_val.shape)\n",
    "print('Test data shape: ', X_test.shape)\n",
    "print('Test labels shape: ', y_test.shape)\n",
    "print('Development data shape:', X_dev.shape)\n",
    "print('Development data shape', y_dev.shape)"
   ]
  },
  {
   "cell_type": "markdown",
   "metadata": {
    "colab_type": "text",
    "id": "xa_w8ZHbtrqY"
   },
   "source": [
    "## Part 1: Tensorflow MLP (15%)\n",
    "In this part, you will use tensorflow modules to implement a MLP. We provide a demo of a two-layer net, of which style is referred to https://www.tensorflow.org/guide/keras, and https://www.tensorflow.org/guide/eager. \n",
    "\n",
    "You need to implement a multi-layer with 4 layers in a similar style."
   ]
  },
  {
   "cell_type": "markdown",
   "metadata": {},
   "source": [
    "### Demo: Two-layer MLP in Tensorflow"
   ]
  },
  {
   "cell_type": "code",
   "execution_count": 4,
   "metadata": {
    "colab": {
     "base_uri": "https://localhost:8080/",
     "height": 202
    },
    "colab_type": "code",
    "id": "-0xQOzpdtrqZ",
    "outputId": "212defc2-2cd6-406f-affe-9c6c7367e87f",
    "tags": []
   },
   "outputs": [
    {
     "name": "stderr",
     "output_type": "stream",
     "text": [
      "2022-10-14 14:22:45.975029: I tensorflow/core/platform/cpu_feature_guard.cc:151] This TensorFlow binary is optimized with oneAPI Deep Neural Network Library (oneDNN) to use the following CPU instructions in performance-critical operations:  AVX2 FMA\n",
      "To enable them in other operations, rebuild TensorFlow with the appropriate compiler flags.\n"
     ]
    },
    {
     "name": "stdout",
     "output_type": "stream",
     "text": [
      "epoch 1: valid acc = 0.7415000200271606\n",
      "epoch 2: valid acc = 0.7994999885559082\n",
      "epoch 3: valid acc = 0.8245000243186951\n",
      "epoch 4: valid acc = 0.8379999995231628\n",
      "epoch 5: valid acc = 0.8485000133514404\n",
      "epoch 6: valid acc = 0.8510000109672546\n",
      "epoch 7: valid acc = 0.8585000038146973\n",
      "epoch 8: valid acc = 0.8640000224113464\n",
      "epoch 9: valid acc = 0.8690000176429749\n",
      "epoch 10: valid acc = 0.871999979019165\n",
      "epoch 11: valid acc = 0.8725000023841858\n",
      "epoch 12: valid acc = 0.8725000023841858\n",
      "epoch 13: valid acc = 0.8744999766349792\n",
      "epoch 14: valid acc = 0.8744999766349792\n",
      "epoch 15: valid acc = 0.8769999742507935\n",
      "test acc = 0.8603000044822693\n"
     ]
    }
   ],
   "source": [
    "## Demo: Two-layer net in tensorflow (eager execution mode)\n",
    "hidden_dim = 300\n",
    "reg_tf = tf.constant(0.01)\n",
    "\n",
    "# define a tf.keras.Model class\n",
    "class Model(tf.keras.Model):\n",
    "    def __init__(self):\n",
    "        super(Model, self).__init__()\n",
    "        self.W1 = tf.Variable(1e-2*np.random.rand(X_train.shape[1], hidden_dim).astype('float32'))\n",
    "        self.b1 = tf.Variable(np.zeros((hidden_dim,)).astype('float32'))\n",
    "        self.W2 = tf.Variable(1e-2*np.random.rand(hidden_dim, 20).astype('float32'))\n",
    "        self.b2 = tf.Variable(np.zeros((20,)).astype('float32'))\n",
    "    def call(self, inputs):\n",
    "        \"\"\"Run the model.\"\"\"\n",
    "        h1 = tf.nn.relu(tf.matmul(inputs, self.W1) + self.b1)\n",
    "        out = tf.matmul(h1, self.W2) + self.b2\n",
    "        return out\n",
    "\n",
    "# Define and calculate loss function (Note that in eager execution, loss must be in a function)\n",
    "def loss(model, inputs, targets, reg = tf.constant(0.01)):\n",
    "    out = model(inputs)\n",
    "    cross_entropy = tf.nn.softmax_cross_entropy_with_logits(logits= out, labels=tf.one_hot(targets,20))\n",
    "    L2_loss = tf.nn.l2_loss(model.W1) + tf.nn.l2_loss(model.W2)\n",
    "    return tf.reduce_mean(cross_entropy) + reg * L2_loss\n",
    "\n",
    "# calculate gradients for all variables using tf.GradientTape\n",
    "def grad(model, inputs, targets, reg = tf.constant(0.01)):\n",
    "    with tf.GradientTape() as tape:\n",
    "        loss_value = loss(model, inputs, targets, reg=reg)\n",
    "    return tape.gradient(loss_value, [model.W1, model.b1, model.W2, model.b2])\n",
    "\n",
    "# calculate classification accuracy\n",
    "def eval_acc(model, inputs, targets):\n",
    "    correct_prediction = tf.equal(targets, tf.cast(tf.argmax(model(inputs),1), tf.uint8))\n",
    "    accuracy = tf.reduce_mean(tf.cast(correct_prediction, tf.float32))\n",
    "    return accuracy\n",
    "\n",
    "num_train = 58000\n",
    "batch_size = 500\n",
    "num_batch = num_train//batch_size\n",
    "num_epochs = 15\n",
    "model = Model()\n",
    "optimizer = tf.keras.optimizers.SGD(learning_rate=1e-3)\n",
    "\n",
    "for e in range(num_epochs):\n",
    "    for i in range(num_batch):\n",
    "        batch_xs, batch_ys = X_train[i*batch_size:(i+1)*batch_size], y_train[i*batch_size:(i+1)*batch_size]\n",
    "        x_tf = tf.Variable(batch_xs, dtype = tf.float32)\n",
    "        y_tf = tf.Variable(batch_ys, dtype = tf.uint8)\n",
    "        \n",
    "        grads = grad(model, x_tf, y_tf, reg_tf)\n",
    "        #optimization based on calculated gradients \n",
    "        optimizer.apply_gradients(zip(grads, [model.W1, model.b1, model.W2, model.b2]))\n",
    "\n",
    "    x_tf = tf.Variable(X_val, dtype = tf.float32)\n",
    "    y_tf = tf.Variable(y_val, dtype = tf.uint8)\n",
    "    accuracy = eval_acc(model, x_tf, y_tf)\n",
    "    val_acc = accuracy.numpy()\n",
    "    print('epoch {}: valid acc = {}'.format(e+1, val_acc))\n",
    "\n",
    "x_tf = tf.Variable(X_test, dtype = tf.float32)\n",
    "y_tf = tf.Variable(y_test, dtype = tf.uint8)\n",
    "accuracy = eval_acc(model, x_tf, y_tf)\n",
    "test_acc = accuracy.numpy()\n",
    "print('test acc = {}'.format(test_acc))"
   ]
  },
  {
   "cell_type": "markdown",
   "metadata": {},
   "source": [
    "### Create Deeper Network"
   ]
  },
  {
   "cell_type": "markdown",
   "metadata": {
    "colab_type": "text",
    "id": "YmSduBmytrqb"
   },
   "source": [
    "<span style=\"color:red\"><strong>TODO</strong></span>: Create your 4-layer MLP in tensorflow. Since you are going to create a deeper neural network, it is recommended to use \"list\" to store your network parameters (weights and bias). Consider using a loop to create your MLP network. Hint: Copy the above code and make necessary changes in model definition."
   ]
  },
  {
   "cell_type": "code",
   "execution_count": 5,
   "metadata": {},
   "outputs": [],
   "source": [
    "# Create you MLP using TensorFlow functions."
   ]
  },
  {
   "cell_type": "code",
   "execution_count": 6,
   "metadata": {},
   "outputs": [
    {
     "name": "stdout",
     "output_type": "stream",
     "text": [
      "epoch 1: valid acc = 0.1835000067949295\n",
      "epoch 2: valid acc = 0.18449999392032623\n",
      "epoch 3: valid acc = 0.18549999594688416\n",
      "epoch 4: valid acc = 0.18549999594688416\n",
      "epoch 5: valid acc = 0.1835000067949295\n",
      "epoch 6: valid acc = 0.1835000067949295\n",
      "epoch 7: valid acc = 0.1850000023841858\n",
      "epoch 8: valid acc = 0.18449999392032623\n",
      "epoch 9: valid acc = 0.18199999630451202\n",
      "epoch 10: valid acc = 0.18250000476837158\n",
      "epoch 11: valid acc = 0.18150000274181366\n",
      "epoch 12: valid acc = 0.18400000035762787\n",
      "epoch 13: valid acc = 0.1850000023841858\n",
      "epoch 14: valid acc = 0.18549999594688416\n",
      "epoch 15: valid acc = 0.18549999594688416\n",
      "epoch 16: valid acc = 0.1850000023841858\n",
      "epoch 17: valid acc = 0.18700000643730164\n",
      "epoch 18: valid acc = 0.1889999955892563\n",
      "epoch 19: valid acc = 0.19249999523162842\n",
      "epoch 20: valid acc = 0.20000000298023224\n",
      "epoch 21: valid acc = 0.20499999821186066\n",
      "epoch 22: valid acc = 0.2150000035762787\n",
      "epoch 23: valid acc = 0.24150000512599945\n",
      "epoch 24: valid acc = 0.2944999933242798\n",
      "epoch 25: valid acc = 0.257999986410141\n",
      "epoch 26: valid acc = 0.28850001096725464\n",
      "epoch 27: valid acc = 0.33899998664855957\n",
      "epoch 28: valid acc = 0.3434999883174896\n",
      "epoch 29: valid acc = 0.3675000071525574\n",
      "epoch 30: valid acc = 0.32899999618530273\n",
      "epoch 31: valid acc = 0.32499998807907104\n",
      "epoch 32: valid acc = 0.33799999952316284\n",
      "epoch 33: valid acc = 0.39149999618530273\n",
      "epoch 34: valid acc = 0.4020000100135803\n",
      "epoch 35: valid acc = 0.39800000190734863\n",
      "epoch 36: valid acc = 0.3995000123977661\n",
      "epoch 37: valid acc = 0.39100000262260437\n",
      "epoch 38: valid acc = 0.3804999887943268\n",
      "epoch 39: valid acc = 0.36550000309944153\n",
      "epoch 40: valid acc = 0.35850000381469727\n",
      "epoch 41: valid acc = 0.3720000088214874\n",
      "epoch 42: valid acc = 0.38499999046325684\n",
      "epoch 43: valid acc = 0.4074999988079071\n",
      "epoch 44: valid acc = 0.4300000071525574\n",
      "epoch 45: valid acc = 0.46650001406669617\n",
      "epoch 46: valid acc = 0.49149999022483826\n",
      "epoch 47: valid acc = 0.5065000057220459\n",
      "epoch 48: valid acc = 0.5195000171661377\n",
      "epoch 49: valid acc = 0.5295000076293945\n",
      "epoch 50: valid acc = 0.5335000157356262\n",
      "epoch 51: valid acc = 0.534500002861023\n",
      "epoch 52: valid acc = 0.5400000214576721\n",
      "epoch 53: valid acc = 0.5419999957084656\n",
      "epoch 54: valid acc = 0.5525000095367432\n",
      "epoch 55: valid acc = 0.565500020980835\n",
      "epoch 56: valid acc = 0.5759999752044678\n",
      "epoch 57: valid acc = 0.5910000205039978\n",
      "epoch 58: valid acc = 0.6129999756813049\n",
      "epoch 59: valid acc = 0.6380000114440918\n",
      "epoch 60: valid acc = 0.6579999923706055\n",
      "epoch 61: valid acc = 0.6754999756813049\n",
      "epoch 62: valid acc = 0.6865000128746033\n",
      "epoch 63: valid acc = 0.6894999742507935\n",
      "epoch 64: valid acc = 0.6955000162124634\n",
      "epoch 65: valid acc = 0.703000009059906\n",
      "epoch 66: valid acc = 0.7105000019073486\n",
      "epoch 67: valid acc = 0.7170000076293945\n",
      "epoch 68: valid acc = 0.7239999771118164\n",
      "epoch 69: valid acc = 0.7269999980926514\n",
      "epoch 70: valid acc = 0.7310000061988831\n",
      "epoch 71: valid acc = 0.7319999933242798\n",
      "epoch 72: valid acc = 0.7365000247955322\n",
      "epoch 73: valid acc = 0.7404999732971191\n",
      "epoch 74: valid acc = 0.7444999814033508\n",
      "epoch 75: valid acc = 0.746999979019165\n",
      "epoch 76: valid acc = 0.7505000233650208\n",
      "epoch 77: valid acc = 0.7595000267028809\n",
      "epoch 78: valid acc = 0.7649999856948853\n",
      "epoch 79: valid acc = 0.7674999833106995\n",
      "epoch 80: valid acc = 0.7680000066757202\n",
      "epoch 81: valid acc = 0.7705000042915344\n",
      "epoch 82: valid acc = 0.7724999785423279\n",
      "epoch 83: valid acc = 0.7730000019073486\n",
      "epoch 84: valid acc = 0.777999997138977\n",
      "epoch 85: valid acc = 0.7785000205039978\n",
      "epoch 86: valid acc = 0.7795000076293945\n",
      "epoch 87: valid acc = 0.7820000052452087\n",
      "epoch 88: valid acc = 0.7839999794960022\n",
      "epoch 89: valid acc = 0.7875000238418579\n",
      "epoch 90: valid acc = 0.7860000133514404\n",
      "epoch 91: valid acc = 0.7879999876022339\n",
      "epoch 92: valid acc = 0.7900000214576721\n",
      "epoch 93: valid acc = 0.7929999828338623\n",
      "epoch 94: valid acc = 0.7950000166893005\n",
      "epoch 95: valid acc = 0.7985000014305115\n",
      "epoch 96: valid acc = 0.8009999990463257\n",
      "epoch 97: valid acc = 0.8004999756813049\n",
      "epoch 98: valid acc = 0.8040000200271606\n",
      "epoch 99: valid acc = 0.8069999814033508\n",
      "epoch 100: valid acc = 0.8080000281333923\n",
      "test acc = 0.7985000014305115\n"
     ]
    }
   ],
   "source": [
    "## Four-layer net in tensorflow (eager execution mode)\n",
    "hidden_dim1 = 256\n",
    "hidden_dim2 = 128\n",
    "hidden_dim3 = 64\n",
    "reg_tf = tf.constant(0.01)\n",
    "\n",
    "# define a tf.keras.Model class\n",
    "class Model(tf.keras.Model):\n",
    "    def __init__(self):\n",
    "        super(Model, self).__init__()\n",
    "        self.W1 = tf.Variable(1e-2*np.random.rand(X_train.shape[1], hidden_dim1).astype('float32'))\n",
    "        self.b1 = tf.Variable(np.zeros((hidden_dim1,)).astype('float32'))\n",
    "        self.W2 = tf.Variable(1e-2*np.random.rand(hidden_dim1, hidden_dim2).astype('float32'))\n",
    "        self.b2 = tf.Variable(np.zeros((hidden_dim2,)).astype('float32'))\n",
    "        self.W3 = tf.Variable(1e-2*np.random.rand(hidden_dim2, hidden_dim3).astype('float32'))\n",
    "        self.b3 = tf.Variable(np.zeros((hidden_dim3,)).astype('float32'))\n",
    "        self.W4 = tf.Variable(1e-2*np.random.rand(hidden_dim3, 20).astype('float32'))\n",
    "        self.b4 = tf.Variable(np.zeros((20,)).astype('float32'))\n",
    "        \n",
    "    def call(self, inputs):\n",
    "        \"\"\"Run the model.\"\"\"\n",
    "        h1 = tf.nn.relu(tf.matmul(inputs, self.W1) + self.b1)\n",
    "        h2 = tf.nn.relu(tf.matmul(h1, self.W2) + self.b2)\n",
    "        h3 = tf.nn.relu(tf.matmul(h2, self.W3) + self.b3)\n",
    "        out = tf.matmul(h3, self.W4) + self.b4\n",
    "        return out\n",
    "\n",
    "# Define and calculate loss function (Note that in eager execution, loss must be in a function)\n",
    "def loss(model, inputs, targets, reg = tf.constant(0.01)):\n",
    "    out = model(inputs)\n",
    "    cross_entropy = tf.nn.softmax_cross_entropy_with_logits(logits= out, labels=tf.one_hot(targets,20))\n",
    "    L2_loss = tf.nn.l2_loss(model.W1) + tf.nn.l2_loss(model.W2) + tf.nn.l2_loss(model.W3) + tf.nn.l2_loss(model.W4)\n",
    "    return tf.reduce_mean(cross_entropy) + reg * L2_loss\n",
    "\n",
    "# calculate gradients for all variables using tf.GradientTape\n",
    "def grad(model, inputs, targets, reg = tf.constant(0.01)):\n",
    "    with tf.GradientTape() as tape:\n",
    "        loss_value = loss(model, inputs, targets, reg=reg)\n",
    "    return tape.gradient(loss_value, [model.W1, model.b1, model.W2, model.b2, model.W3, model.b3, model.W4, model.b4])\n",
    "\n",
    "# calculate classification accuracy\n",
    "def eval_acc(model, inputs, targets):\n",
    "    correct_prediction = tf.equal(targets, tf.cast(tf.argmax(model(inputs),1), tf.uint8))\n",
    "    accuracy = tf.reduce_mean(tf.cast(correct_prediction, tf.float32))\n",
    "    return accuracy\n",
    "\n",
    "num_train = 58000\n",
    "batch_size = 500\n",
    "num_batch = num_train//batch_size\n",
    "num_epochs = 100\n",
    "model = Model()\n",
    "optimizer = tf.keras.optimizers.SGD(learning_rate=1e-3)\n",
    "\n",
    "for e in range(num_epochs):\n",
    "    for i in range(num_batch):\n",
    "        batch_xs, batch_ys = X_train[i*batch_size:(i+1)*batch_size], y_train[i*batch_size:(i+1)*batch_size]\n",
    "        x_tf = tf.Variable(batch_xs, dtype = tf.float32)\n",
    "        y_tf = tf.Variable(batch_ys, dtype = tf.uint8)\n",
    "        \n",
    "        grads = grad(model, x_tf, y_tf, reg_tf)\n",
    "        #optimization based on calculated gradients \n",
    "        optimizer.apply_gradients(zip(grads, [model.W1, model.b1, model.W2, model.b2, \n",
    "                                              model.W3, model.b3, model.W4, model.b4]))\n",
    "\n",
    "    x_tf = tf.Variable(X_val, dtype = tf.float32)\n",
    "    y_tf = tf.Variable(y_val, dtype = tf.uint8)\n",
    "    accuracy = eval_acc(model, x_tf, y_tf)\n",
    "    val_acc = accuracy.numpy()\n",
    "    print('epoch {}: valid acc = {}'.format(e+1, val_acc))\n",
    "\n",
    "x_tf = tf.Variable(X_test, dtype = tf.float32)\n",
    "y_tf = tf.Variable(y_test, dtype = tf.uint8)\n",
    "accuracy = eval_acc(model, x_tf, y_tf)\n",
    "test_acc = accuracy.numpy()\n",
    "print('test acc = {}'.format(test_acc))"
   ]
  },
  {
   "cell_type": "markdown",
   "metadata": {},
   "source": [
    "### Introduction to TensorFlow.keras\n",
    "\n",
    "As you can see, when the network structure becomes larger, it is hard to handle variables from every layer. Here we introduce the `tf.keras` tool to build the network in a much simpler way. You may want to use it in your project."
   ]
  },
  {
   "cell_type": "markdown",
   "metadata": {},
   "source": [
    "<span style=\"color:red\"><strong>TODO</strong></span>: Follow this official example: https://www.tensorflow.org/datasets/keras_example#step_2_create_and_train_the_model to build an MLP and train it. \n",
    "\n",
    "*You should keep the same optimizer (SGD) and loss function (cross entropy) as in the previous task.*\n",
    "\n",
    "**Note:** Since we want to use our own dataset, we will not use the `tfds.load` method to load the data this time. \n",
    "\n",
    "You need to check the usage of [`model.fit()`](https://www.tensorflow.org/api_docs/python/tf/keras/Model#fit) and feed the model with our own data.\n",
    "\n",
    "**Tips:**\n",
    "* Softmax is also registered as a layer operation in tf.keras.\n",
    "* You can use `model.summary()` to visualize the model after you build it.\n",
    "* Use `verbose=2` in `model.fit()` to get similar training logs"
   ]
  },
  {
   "cell_type": "code",
   "execution_count": 7,
   "metadata": {},
   "outputs": [
    {
     "name": "stdout",
     "output_type": "stream",
     "text": [
      "Model: \"sequential\"\n",
      "_________________________________________________________________\n",
      " Layer (type)                Output Shape              Param #   \n",
      "=================================================================\n",
      " flatten (Flatten)           (None, 784)               0         \n",
      "                                                                 \n",
      " dense (Dense)               (None, 300)               235500    \n",
      "                                                                 \n",
      " dense_1 (Dense)             (None, 300)               90300     \n",
      "                                                                 \n",
      " dense_2 (Dense)             (None, 20)                6020      \n",
      "                                                                 \n",
      "=================================================================\n",
      "Total params: 331,820\n",
      "Trainable params: 331,820\n",
      "Non-trainable params: 0\n",
      "_________________________________________________________________\n",
      "Epoch 1/15\n"
     ]
    },
    {
     "name": "stderr",
     "output_type": "stream",
     "text": [
      "/opt/anaconda3/lib/python3.9/site-packages/keras/optimizer_v2/gradient_descent.py:102: UserWarning: The `lr` argument is deprecated, use `learning_rate` instead.\n",
      "  super(SGD, self).__init__(name, **kwargs)\n",
      "/opt/anaconda3/lib/python3.9/site-packages/tensorflow/python/util/dispatch.py:1082: UserWarning: \"`sparse_categorical_crossentropy` received `from_logits=True`, but the `output` argument was produced by a sigmoid or softmax activation and thus does not represent logits. Was this intended?\"\n",
      "  return dispatch_target(*args, **kwargs)\n"
     ]
    },
    {
     "name": "stdout",
     "output_type": "stream",
     "text": [
      "1813/1813 - 4s - loss: 5.6815 - accuracy: 0.7628 - val_loss: 3.3581 - val_accuracy: 0.8125 - 4s/epoch - 2ms/step\n",
      "Epoch 2/15\n",
      "1813/1813 - 4s - loss: 2.5604 - accuracy: 0.8234 - val_loss: 2.5101 - val_accuracy: 0.8110 - 4s/epoch - 2ms/step\n",
      "Epoch 3/15\n",
      "1813/1813 - 4s - loss: 1.8029 - accuracy: 0.8426 - val_loss: 2.1533 - val_accuracy: 0.8110 - 4s/epoch - 2ms/step\n",
      "Epoch 4/15\n",
      "1813/1813 - 4s - loss: 1.3870 - accuracy: 0.8551 - val_loss: 2.0532 - val_accuracy: 0.8205 - 4s/epoch - 2ms/step\n",
      "Epoch 5/15\n",
      "1813/1813 - 3s - loss: 1.1150 - accuracy: 0.8662 - val_loss: 1.7969 - val_accuracy: 0.8270 - 3s/epoch - 2ms/step\n",
      "Epoch 6/15\n",
      "1813/1813 - 4s - loss: 0.9197 - accuracy: 0.8749 - val_loss: 1.7238 - val_accuracy: 0.8265 - 4s/epoch - 2ms/step\n",
      "Epoch 7/15\n",
      "1813/1813 - 4s - loss: 0.7798 - accuracy: 0.8824 - val_loss: 1.5775 - val_accuracy: 0.8225 - 4s/epoch - 2ms/step\n",
      "Epoch 8/15\n",
      "1813/1813 - 4s - loss: 0.6693 - accuracy: 0.8898 - val_loss: 1.5663 - val_accuracy: 0.8205 - 4s/epoch - 2ms/step\n",
      "Epoch 9/15\n",
      "1813/1813 - 4s - loss: 0.5832 - accuracy: 0.8951 - val_loss: 1.4320 - val_accuracy: 0.8230 - 4s/epoch - 2ms/step\n",
      "Epoch 10/15\n",
      "1813/1813 - 4s - loss: 0.5140 - accuracy: 0.9020 - val_loss: 1.4916 - val_accuracy: 0.8260 - 4s/epoch - 2ms/step\n",
      "Epoch 11/15\n",
      "1813/1813 - 4s - loss: 0.4570 - accuracy: 0.9059 - val_loss: 1.4604 - val_accuracy: 0.8165 - 4s/epoch - 2ms/step\n",
      "Epoch 12/15\n",
      "1813/1813 - 4s - loss: 0.4074 - accuracy: 0.9133 - val_loss: 1.4291 - val_accuracy: 0.8220 - 4s/epoch - 2ms/step\n",
      "Epoch 13/15\n",
      "1813/1813 - 4s - loss: 0.3679 - accuracy: 0.9166 - val_loss: 1.3850 - val_accuracy: 0.8235 - 4s/epoch - 2ms/step\n",
      "Epoch 14/15\n",
      "1813/1813 - 4s - loss: 0.3339 - accuracy: 0.9212 - val_loss: 1.3730 - val_accuracy: 0.8295 - 4s/epoch - 2ms/step\n",
      "Epoch 15/15\n",
      "1813/1813 - 4s - loss: 0.3036 - accuracy: 0.9261 - val_loss: 1.3968 - val_accuracy: 0.8255 - 4s/epoch - 2ms/step\n"
     ]
    },
    {
     "data": {
      "text/plain": [
       "<keras.callbacks.History at 0x7f85bfe28c40>"
      ]
     },
     "execution_count": 7,
     "metadata": {},
     "output_type": "execute_result"
    }
   ],
   "source": [
    "#############################################################\n",
    "# TODO: build the model with tf.keras.models.Sequential\n",
    "hiddenlayer = 300\n",
    "\n",
    "model = tf.keras.models.Sequential([\n",
    "  tf.keras.layers.Flatten(input_shape=(784,)),\n",
    "  tf.keras.layers.Dense(300, activation='relu'),\n",
    "  tf.keras.layers.Dense(300, activation='relu'),\n",
    "  tf.keras.layers.Dense(20, activation='softmax')\n",
    "])\n",
    "# END of your code\n",
    "#############################################################\n",
    "\n",
    "\n",
    "\n",
    "#############################################################\n",
    "# TODO: compile the model, set optimizer and loss\n",
    "\n",
    "model.compile(\n",
    "    optimizer=tf.keras.optimizers.SGD(lr=1e-4), \n",
    "    loss=tf.keras.losses.SparseCategoricalCrossentropy(from_logits=True),\n",
    "    metrics=['accuracy'])\n",
    "model.summary()\n",
    "\n",
    "# END of your code\n",
    "#############################################################\n",
    "\n",
    "\n",
    "\n",
    "#############################################################\n",
    "# TODO: train the model with our own dataset\n",
    "\n",
    "model.fit(\n",
    "    X_train, y_train,\n",
    "    epochs=15, verbose=2,\n",
    "    validation_data=(X_val, y_val)\n",
    ")\n",
    "\n",
    "\n",
    "\n",
    "# END of your code\n",
    "#############################################################"
   ]
  },
  {
   "cell_type": "markdown",
   "metadata": {},
   "source": [
    "## Part 2: t-SNE (5%)\n",
    "\n",
    "t-SNE is is a machine learning algorithm for nonlinear dimensionality reduction developed by Geoffrey Hinton and Laurens van der Maaten. It is also a good way of visualizing high-dimensional data in 2D. We show its application for CIFAR100. Later it will be re-used in a CNN network. Experimenting with t-SNE can be fun. One thing to try is to visualize the output of each layer of MLP to observe the differences.\n",
    "\n",
    "<p style=\"line-height: 1.2;\">[1] Maaten, Laurens van der, and Geoffrey Hinton. \"Visualizing data using t-SNE.\" Journal of Machine Learning Research 9.Nov (2008): 2579-2605.</p>\n",
    "<p style=\"line-height: 1.2;\">[2] Adaptive learning rate scheme by Jacobs https://www.willamette.edu/~gorr/classes/cs449/Momentum/deltabardelta.html</p>\n",
    "<p style=\"line-height: 1.2;\">[3] http://cs.stanford.edu/people/karpathy/cnnembed/</p>\n",
    "<p style=\"line-height: 1.2;\">[4] How to Use t-SNE Effectively, with examples.\n",
    " https://distill.pub/2016/misread-tsne</p>"
   ]
  },
  {
   "cell_type": "code",
   "execution_count": 8,
   "metadata": {},
   "outputs": [],
   "source": [
    "from utils.train_funcs import train, test\n",
    "from utils.classifiers.mlp import MLP\n",
    "from utils.features.tsne import tsne"
   ]
  },
  {
   "cell_type": "code",
   "execution_count": 9,
   "metadata": {
    "tags": []
   },
   "outputs": [
    {
     "name": "stdout",
     "output_type": "stream",
     "text": [
      "(58000, 784) (2000, 784) (10000, 784) (100, 784)\n",
      "Train data shape:  (58000, 784)\n",
      "Train labels shape:  (58000,)\n",
      "Validation data shape:  (2000, 784)\n",
      "Validation labels shape:  (2000,)\n",
      "Test data shape:  (10000, 784)\n",
      "Test labels shape:  (10000,)\n",
      "Development data shape: (100, 784)\n",
      "Development data shape (100,)\n"
     ]
    }
   ],
   "source": [
    "# Load the raw Fashion-MNIST data.\n",
    "train_data, test_data = fashion_mnist.load_data()\n",
    "\n",
    "X_train_raw, y_train = train_data\n",
    "X_test_raw, y_test = test_data\n",
    "\n",
    "X_train = X_train_raw.reshape((X_train_raw.shape[0], X_train_raw.shape[1]**2))\n",
    "X_test = X_test_raw.reshape((X_test_raw.shape[0], X_test_raw.shape[1]**2))\n",
    "\n",
    "# Data organizations:\n",
    "# Train data: 58000 samples from original training set of 60,000\n",
    "# Validation data: 2000 samples from original training set: 58,000~60,000\n",
    "# Test data: 10000 samples from original test set\n",
    "# Development data (for gradient check): 100 from the training set\n",
    "num_training = 58000\n",
    "num_validation = 2000\n",
    "num_dev = 100\n",
    "\n",
    "X_val = X_train[-num_validation:, :]\n",
    "y_val = y_train[-num_validation:]\n",
    "\n",
    "mask = np.random.choice(num_training, num_dev, replace=False)\n",
    "X_dev = X_train[mask]\n",
    "y_dev = y_train[mask]\n",
    "\n",
    "X_train = X_train[:num_training, :]\n",
    "y_train = y_train[:num_training]\n",
    "\n",
    "# Preprocessing: subtract the mean value across every dimension for training data\n",
    "mean_image = np.mean(X_train, axis=0)\n",
    "\n",
    "X_train = X_train.astype(np.float32) - mean_image.astype(np.float32)\n",
    "X_val = X_val.astype(np.float32) - mean_image\n",
    "X_test = X_test.astype(np.float32) - mean_image\n",
    "X_dev = X_dev.astype(np.float32) - mean_image\n",
    "\n",
    "print(X_train.shape, X_val.shape, X_test.shape, X_dev.shape)\n",
    "print('Train data shape: ', X_train.shape)\n",
    "print('Train labels shape: ', y_train.shape)\n",
    "print('Validation data shape: ', X_val.shape)\n",
    "print('Validation labels shape: ', y_val.shape)\n",
    "print('Test data shape: ', X_test.shape)\n",
    "print('Test labels shape: ', y_test.shape)\n",
    "print('Development data shape:', X_dev.shape)\n",
    "print('Development data shape', y_dev.shape)"
   ]
  },
  {
   "cell_type": "markdown",
   "metadata": {},
   "source": [
    "#### tSNE of original data"
   ]
  },
  {
   "cell_type": "code",
   "execution_count": 10,
   "metadata": {
    "tags": []
   },
   "outputs": [
    {
     "name": "stdout",
     "output_type": "stream",
     "text": [
      "2.78780370319268\n",
      "The 100 th loop cost: 11.802693158091186, computation time: 1.628695011138916\n",
      "The 200 th loop cost: 0.5661986129465925, computation time: 3.0767881870269775\n",
      "The 300 th loop cost: 0.5255229874598181, computation time: 4.5162670612335205\n",
      "The 400 th loop cost: 0.5174083158097884, computation time: 5.984291076660156\n",
      "The 500 th loop cost: 0.5153527499389945, computation time: 7.435161113739014\n",
      "The 600 th loop cost: 0.5145123970432854, computation time: 8.888800859451294\n",
      "The 700 th loop cost: 0.5140934125427817, computation time: 10.343523979187012\n",
      "The 800 th loop cost: 0.5138588660195286, computation time: 11.925769805908203\n",
      "The 900 th loop cost: 0.5137155472795238, computation time: 13.353477001190186\n",
      "The 1000 th loop cost: 0.5136238596667813, computation time: 14.774574995040894\n",
      "it takes 15.266309976577759 seconds\n"
     ]
    }
   ],
   "source": [
    "random_select = np.random.choice(10000, 500, replace=False)\n",
    "X = X_test_raw[random_select,:,:].reshape(500,X_train.shape[1]).astype('float')/255.0\n",
    "tic = time.time()\n",
    "Y = tsne(X, low_dim=2, perplexity=25.0)\n",
    "print(\"it takes {} seconds\".format(time.time()-tic))"
   ]
  },
  {
   "cell_type": "code",
   "execution_count": 11,
   "metadata": {},
   "outputs": [
    {
     "data": {
      "text/plain": [
       "(500, 2)"
      ]
     },
     "execution_count": 11,
     "metadata": {},
     "output_type": "execute_result"
    }
   ],
   "source": [
    "Y.shape"
   ]
  },
  {
   "cell_type": "code",
   "execution_count": 12,
   "metadata": {},
   "outputs": [
    {
     "data": {
      "image/png": "[encoded data removed]",
      "text/plain": [
       "<Figure size 432x288 with 1 Axes>"
      ]
     },
     "metadata": {
      "needs_background": "light"
     },
     "output_type": "display_data"
    }
   ],
   "source": [
    "## visualize tSNE of original data\n",
    "labels = y_test[random_select]\n",
    "colors = np.random.rand(20,3)\n",
    "color_labels = [colors[int(i)] for i in labels.tolist()]\n",
    "plt.scatter(Y[:,0], Y[:,1], 20, color_labels)\n",
    "plt.show()"
   ]
  },
  {
   "cell_type": "markdown",
   "metadata": {},
   "source": [
    "#### tSNE of data after two hidden layers\n",
    "\n",
    "Do visualization of the tSNE of data after going through MLP. In the visualization result, you should find that in comparison with the tSNE of original data where all data points mess up with each other, tSNE of data after two-layer networks would be shown as multiple clusters in a 2D panel."
   ]
  },
  {
   "cell_type": "code",
   "execution_count": 13,
   "metadata": {
    "tags": []
   },
   "outputs": [
    {
     "name": "stdout",
     "output_type": "stream",
     "text": [
      "number of batches for training: 290\n",
      "epoch 1: valid acc = 0.8535, new learning rate = 0.00095\n",
      "epoch 2: valid acc = 0.8535, new learning rate = 0.0009025\n",
      "epoch 3: valid acc = 0.8535, new learning rate = 0.000857375\n",
      "epoch 4: valid acc = 0.8555, new learning rate = 0.0008145062499999999\n",
      "epoch 5: valid acc = 0.8755, new learning rate = 0.0007737809374999998\n",
      "epoch 6: valid acc = 0.8825, new learning rate = 0.0007350918906249997\n",
      "epoch 7: valid acc = 0.881, new learning rate = 0.0006983372960937497\n",
      "epoch 8: valid acc = 0.876, new learning rate = 0.0006634204312890621\n",
      "epoch 9: valid acc = 0.884, new learning rate = 0.000630249409724609\n",
      "epoch 10: valid acc = 0.8615, new learning rate = 0.0005987369392383785\n",
      "test acc: 0.8659\n"
     ]
    },
    {
     "data": {
      "text/plain": [
       "0.8659"
      ]
     },
     "execution_count": 13,
     "metadata": {},
     "output_type": "execute_result"
    }
   ],
   "source": [
    "# Define MLP model\n",
    "model = MLP(input_dim=X_train.shape[1], hidden_dims=[100], num_classes=20, reg=0.1, weight_scale=1e-3)\n",
    "\n",
    "num_epoch = 10\n",
    "batch_size = 200\n",
    "lr = 1e-3\n",
    "verbose = False\n",
    "train_acc_hist, val_acc_hist = train(model, X_train, y_train, X_val, y_val, \n",
    "                  num_epoch=num_epoch, batch_size=batch_size, learning_rate=lr, verbose=verbose, momentum=0.9)\n",
    "test(model, X_test, y_test)"
   ]
  },
  {
   "cell_type": "markdown",
   "metadata": {},
   "source": [
    "<span style=\"color:red\"><strong>TODO</strong></span>: Visualize data that is passed through MLP model defined above using tSNE. "
   ]
  },
  {
   "cell_type": "code",
   "execution_count": 15,
   "metadata": {
    "tags": []
   },
   "outputs": [
    {
     "name": "stdout",
     "output_type": "stream",
     "text": [
      "it takes 0.007365226745605469 seconds\n"
     ]
    }
   ],
   "source": [
    "# run tSNE\n",
    "X = X_test[random_select]\n",
    "tic = time.time()\n",
    "\n",
    "#############################################################################\n",
    "#                          START OF YOUR CODE                               #\n",
    "# Hint: Pass data through affine and dense layers (model.layers) and then   #\n",
    "# apply softmax to obtain output of the MLP model.                          #\n",
    "#############################################################################\n",
    "from utils.classifiers.softmax import softmax\n",
    "input_x = model.layers[0].feedforward(X)\n",
    "input_x = model.layers[1].feedforward(input_x)\n",
    "out = softmax(input_x)\n",
    "Y = tsne(out, low_dim=2, perplexity=30.0)\n",
    "#############################################################################\n",
    "#                          END OF YOUR CODE                                 #\n",
    "#############################################################################\n",
    "\n",
    "print(\"it takes {} seconds\".format(time.time()-tic))"
   ]
  },
  {
   "cell_type": "code",
   "execution_count": 18,
   "metadata": {},
   "outputs": [
    {
     "name": "stdout",
     "output_type": "stream",
     "text": [
      "0.07984258905714454\n",
      "The 100 th loop cost: 7.857919236214607, computation time: 1.4665651321411133\n",
      "The 200 th loop cost: 0.1909083391499287, computation time: 2.928676128387451\n",
      "The 300 th loop cost: 0.1597692585201804, computation time: 4.371641159057617\n",
      "The 400 th loop cost: 0.1511836210504112, computation time: 5.805408000946045\n",
      "The 500 th loop cost: 0.1477354778353316, computation time: 7.231503009796143\n",
      "The 600 th loop cost: 0.14583194887561257, computation time: 8.706334829330444\n",
      "The 700 th loop cost: 0.14461418705426438, computation time: 10.161444902420044\n",
      "The 800 th loop cost: 0.14375618732585999, computation time: 11.625852823257446\n",
      "The 900 th loop cost: 0.14309883076855034, computation time: 13.2448890209198\n",
      "The 1000 th loop cost: 0.14258255755070726, computation time: 14.816082000732422\n",
      "it takes 171.0200572013855 seconds\n"
     ]
    }
   ],
   "source": []
  },
  {
   "cell_type": "code",
   "execution_count": 19,
   "metadata": {},
   "outputs": [
    {
     "data": {
      "image/png": "[encoded data removed]",
      "text/plain": [
       "<Figure size 432x288 with 1 Axes>"
      ]
     },
     "metadata": {
      "needs_background": "light"
     },
     "output_type": "display_data"
    }
   ],
   "source": [
    "# visualize tSNE 2D representation of data after two hidden layers\n",
    "#############################################################################\n",
    "#                          START OF YOUR CODE                               #\n",
    "# Hint: See tSNE visualization of original data                             #\n",
    "#############################################################################\n",
    "labels = y_test[random_select]\n",
    "colors = np.random.rand(20,3)\n",
    "color_labels = [colors[int(i)] for i in labels.tolist()]\n",
    "plt.scatter(Y[:,0], Y[:,1], 20, color_labels)\n",
    "plt.show()\n",
    "\n",
    "#############################################################################\n",
    "#                          END OF YOUR CODE                                 #\n",
    "#############################################################################"
   ]
  },
  {
   "cell_type": "markdown",
   "metadata": {},
   "source": [
    "<span style=\"color:red\"><strong>TODO</strong></span>: Try tuning the parameters of tSNE, do visualization of the new tSNE of data."
   ]
  },
  {
   "cell_type": "code",
   "execution_count": null,
   "metadata": {},
   "outputs": [],
   "source": [
    "# Tune the parameter, show the results.\n",
    "# run tSNE\n",
    "X = X_test[random_select]\n",
    "\n",
    "\n",
    "#############################################################################\n",
    "#                          START OF YOUR CODE                               #\n",
    "#############################################################################\n",
    "from utils.classifiers.softmax import softmax\n",
    "input_x = model.layers[0].feedforward(X)\n",
    "input_x = model.layers[1].feedforward(input_x)\n",
    "out = softmax(input_x)\n",
    "Y = tsne(out, low_dim=2, perplexity=30.0)\n",
    "#############################################################################\n",
    "#                          END OF YOUR CODE                                 #\n",
    "#############################################################################\n",
    "\n",
    "print(\"it takes {} seconds\".format(time.time()-tic))"
   ]
  },
  {
   "cell_type": "code",
   "execution_count": null,
   "metadata": {},
   "outputs": [],
   "source": [
    "# visualize tSNE 2D representation of data after two hidden layers\n",
    "#############################################################################\n",
    "#                          START OF YOUR CODE                               #\n",
    "#############################################################################\n",
    "labels = y_test[random_select]\n",
    "colors = np.random.rand(20,3)\n",
    "color_labels = [colors[int(i)] for i in labels.tolist()]\n",
    "plt.scatter(Y[:,0], Y[:,1], 20, color_labels)\n",
    "plt.show()\n",
    "\n",
    "#############################################################################\n",
    "#                          END OF YOUR CODE                                 #\n",
    "#############################################################################"
   ]
  },
  {
   "cell_type": "code",
   "execution_count": null,
   "metadata": {},
   "outputs": [],
   "source": []
  }
 ],
 "metadata": {
  "colab": {
   "name": "task2-mlp_eager.ipynb",
   "provenance": [],
   "toc_visible": true,
   "version": "0.3.2"
  },
  "kernelspec": {
   "display_name": "Python 3 (ipykernel)",
   "language": "python",
   "name": "python3"
  },
  "language_info": {
   "codemirror_mode": {
    "name": "ipython",
    "version": 3
   },
   "file_extension": ".py",
   "mimetype": "text/x-python",
   "name": "python",
   "nbconvert_exporter": "python",
   "pygments_lexer": "ipython3",
   "version": "3.9.7"
  },
  "vscode": {
   "interpreter": {
    "hash": "b0fa6594d8f4cbf19f97940f81e996739fb7646882a419484c72d19e05852a7e"
   }
  }
 },
 "nbformat": 4,
 "nbformat_minor": 4
}
